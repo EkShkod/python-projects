{
  "cells": [
    {
      "cell_type": "markdown",
      "id": "94ff3375-2d74-4373-9d69-f664bb40af37",
      "metadata": {
        "id": "94ff3375-2d74-4373-9d69-f664bb40af37"
      },
      "source": [
        "## Special Education Practicum.  Interpretation of the polarimetric observations using neural nets."
      ]
    },
    {
      "cell_type": "markdown",
      "id": "ad5e6285-6073-4bf1-a930-156bf837126d",
      "metadata": {
        "id": "ad5e6285-6073-4bf1-a930-156bf837126d"
      },
      "source": [
        "In this work, the neural network was written from scratch. Below is a step-by-step solution with a description of the actions."
      ]
    },
    {
      "cell_type": "markdown",
      "id": "059d7ea9-1c1e-4116-b8ed-7b32efdb8065",
      "metadata": {
        "id": "059d7ea9-1c1e-4116-b8ed-7b32efdb8065"
      },
      "source": [
        "---"
      ]
    },
    {
      "cell_type": "markdown",
      "id": "960c5ed0-b43e-4587-b7ae-a11e13a4285b",
      "metadata": {
        "id": "960c5ed0-b43e-4587-b7ae-a11e13a4285b"
      },
      "source": [
        "**Importing needed libraries and reading the data**"
      ]
    },
    {
      "cell_type": "markdown",
      "id": "3e054e71-2cc9-46f8-8126-013f3eec3068",
      "metadata": {
        "id": "3e054e71-2cc9-46f8-8126-013f3eec3068"
      },
      "source": [
        "**numpy** - for faster numerical operations  \n",
        "**pandas** - for reading data  \n",
        "**matplotlib** - for resulting plots  \n",
        "**tqdm** - for progress bar while evaluation of neural network  \n",
        "**warnings** - to depricate warnings, which may occur while calculating exp function with numpy"
      ]
    },
    {
      "cell_type": "code",
      "execution_count": null,
      "id": "1c68d78a-36bc-4c13-a620-a5bdff88fb22",
      "metadata": {
        "id": "1c68d78a-36bc-4c13-a620-a5bdff88fb22"
      },
      "outputs": [],
      "source": [
        "import numpy as np\n",
        "import pandas as pd\n",
        "from matplotlib import pyplot as plt\n",
        "from tqdm import tqdm\n",
        "import warnings"
      ]
    },
    {
      "cell_type": "markdown",
      "id": "ef94927a-d9ec-4a22-ad46-da9afd39c3f5",
      "metadata": {
        "id": "ef94927a-d9ec-4a22-ad46-da9afd39c3f5"
      },
      "source": [
        "---"
      ]
    },
    {
      "cell_type": "markdown",
      "id": "ddea1963-4480-440b-a8c4-6a609ed53208",
      "metadata": {
        "id": "ddea1963-4480-440b-a8c4-6a609ed53208"
      },
      "source": [
        "**Reading the data**"
      ]
    },
    {
      "cell_type": "code",
      "execution_count": null,
      "id": "14027a64-e0e2-49d3-9321-466dc5cc4b04",
      "metadata": {
        "id": "14027a64-e0e2-49d3-9321-466dc5cc4b04"
      },
      "outputs": [],
      "source": [
        "warnings.filterwarnings('ignore')\n",
        "data = pd.read_table('data.txt', sep='\\s+', header=None, names=['m', 'k', 'x', 'theta', 'p_1', 'p_2'])\n",
        "\n",
        "m = np.asarray(data['m'])\n",
        "k = np.asarray(data['k'])\n",
        "x = np.asarray(data['x'])\n",
        "theta = np.asarray(data['theta'])\n",
        "p_1 = np.asarray(data['p_1'])\n",
        "p_2 = np.asarray(data['p_2'])"
      ]
    },
    {
      "cell_type": "markdown",
      "id": "06f84575-db0e-4166-be92-8488e76815b7",
      "metadata": {
        "id": "06f84575-db0e-4166-be92-8488e76815b7"
      },
      "source": [
        "---"
      ]
    },
    {
      "cell_type": "markdown",
      "id": "ecf70e63-bdcf-4be6-b04b-3035247cd9af",
      "metadata": {
        "id": "ecf70e63-bdcf-4be6-b04b-3035247cd9af"
      },
      "source": [
        "**Checking if the data is OK**"
      ]
    },
    {
      "cell_type": "code",
      "execution_count": null,
      "id": "81332433-8c77-4670-917f-172ef51f6177",
      "metadata": {
        "id": "81332433-8c77-4670-917f-172ef51f6177",
        "outputId": "38948e6e-af5f-4ba1-a9ce-a2911e186c32"
      },
      "outputs": [
        {
          "name": "stdout",
          "output_type": "stream",
          "text": [
            "<class 'pandas.core.frame.DataFrame'>\n",
            "RangeIndex: 756 entries, 0 to 755\n",
            "Data columns (total 6 columns):\n",
            " #   Column  Non-Null Count  Dtype  \n",
            "---  ------  --------------  -----  \n",
            " 0   m       756 non-null    float64\n",
            " 1   k       756 non-null    float64\n",
            " 2   x       756 non-null    float64\n",
            " 3   theta   756 non-null    float64\n",
            " 4   p_1     756 non-null    float64\n",
            " 5   p_2     756 non-null    float64\n",
            "dtypes: float64(6)\n",
            "memory usage: 35.6 KB\n"
          ]
        }
      ],
      "source": [
        "data.info()"
      ]
    },
    {
      "cell_type": "markdown",
      "id": "8f0c15ad-a2e5-4433-9cd1-ccfaf46a8505",
      "metadata": {
        "id": "8f0c15ad-a2e5-4433-9cd1-ccfaf46a8505"
      },
      "source": [
        "So, it seems all columns were read well, there is no null elements, size and type of all columns are the same."
      ]
    },
    {
      "cell_type": "code",
      "execution_count": null,
      "id": "df6cd550-0912-4ee3-9939-cd1ef2c12435",
      "metadata": {
        "id": "df6cd550-0912-4ee3-9939-cd1ef2c12435",
        "outputId": "d371d51b-9828-4feb-a472-a7c807603558"
      },
      "outputs": [
        {
          "data": {
            "text/html": [
              "<div>\n",
              "<style scoped>\n",
              "    .dataframe tbody tr th:only-of-type {\n",
              "        vertical-align: middle;\n",
              "    }\n",
              "\n",
              "    .dataframe tbody tr th {\n",
              "        vertical-align: top;\n",
              "    }\n",
              "\n",
              "    .dataframe thead th {\n",
              "        text-align: right;\n",
              "    }\n",
              "</style>\n",
              "<table border=\"1\" class=\"dataframe\">\n",
              "  <thead>\n",
              "    <tr style=\"text-align: right;\">\n",
              "      <th></th>\n",
              "      <th>m</th>\n",
              "      <th>k</th>\n",
              "      <th>x</th>\n",
              "      <th>theta</th>\n",
              "      <th>p_1</th>\n",
              "      <th>p_2</th>\n",
              "    </tr>\n",
              "  </thead>\n",
              "  <tbody>\n",
              "    <tr>\n",
              "      <th>0</th>\n",
              "      <td>1.0</td>\n",
              "      <td>1.5</td>\n",
              "      <td>-0.01</td>\n",
              "      <td>0.0</td>\n",
              "      <td>0.12349</td>\n",
              "      <td>0.12349</td>\n",
              "    </tr>\n",
              "    <tr>\n",
              "      <th>1</th>\n",
              "      <td>1.0</td>\n",
              "      <td>1.5</td>\n",
              "      <td>-0.01</td>\n",
              "      <td>30.0</td>\n",
              "      <td>0.11634</td>\n",
              "      <td>0.08993</td>\n",
              "    </tr>\n",
              "    <tr>\n",
              "      <th>2</th>\n",
              "      <td>1.0</td>\n",
              "      <td>1.5</td>\n",
              "      <td>-0.01</td>\n",
              "      <td>60.0</td>\n",
              "      <td>0.09855</td>\n",
              "      <td>0.02890</td>\n",
              "    </tr>\n",
              "    <tr>\n",
              "      <th>3</th>\n",
              "      <td>1.0</td>\n",
              "      <td>1.5</td>\n",
              "      <td>-0.01</td>\n",
              "      <td>90.0</td>\n",
              "      <td>0.07791</td>\n",
              "      <td>0.00028</td>\n",
              "    </tr>\n",
              "    <tr>\n",
              "      <th>4</th>\n",
              "      <td>1.0</td>\n",
              "      <td>1.5</td>\n",
              "      <td>-0.01</td>\n",
              "      <td>120.0</td>\n",
              "      <td>0.06095</td>\n",
              "      <td>0.01244</td>\n",
              "    </tr>\n",
              "    <tr>\n",
              "      <th>5</th>\n",
              "      <td>1.0</td>\n",
              "      <td>1.5</td>\n",
              "      <td>-0.01</td>\n",
              "      <td>150.0</td>\n",
              "      <td>0.05055</td>\n",
              "      <td>0.03644</td>\n",
              "    </tr>\n",
              "    <tr>\n",
              "      <th>6</th>\n",
              "      <td>1.0</td>\n",
              "      <td>1.5</td>\n",
              "      <td>-0.01</td>\n",
              "      <td>180.0</td>\n",
              "      <td>0.04713</td>\n",
              "      <td>0.04713</td>\n",
              "    </tr>\n",
              "    <tr>\n",
              "      <th>7</th>\n",
              "      <td>1.0</td>\n",
              "      <td>1.5</td>\n",
              "      <td>-0.02</td>\n",
              "      <td>0.0</td>\n",
              "      <td>0.12437</td>\n",
              "      <td>0.12437</td>\n",
              "    </tr>\n",
              "    <tr>\n",
              "      <th>8</th>\n",
              "      <td>1.0</td>\n",
              "      <td>1.5</td>\n",
              "      <td>-0.02</td>\n",
              "      <td>30.0</td>\n",
              "      <td>0.11720</td>\n",
              "      <td>0.09058</td>\n",
              "    </tr>\n",
              "    <tr>\n",
              "      <th>9</th>\n",
              "      <td>1.0</td>\n",
              "      <td>1.5</td>\n",
              "      <td>-0.02</td>\n",
              "      <td>60.0</td>\n",
              "      <td>0.09933</td>\n",
              "      <td>0.02911</td>\n",
              "    </tr>\n",
              "  </tbody>\n",
              "</table>\n",
              "</div>"
            ],
            "text/plain": [
              "     m    k     x  theta      p_1      p_2\n",
              "0  1.0  1.5 -0.01    0.0  0.12349  0.12349\n",
              "1  1.0  1.5 -0.01   30.0  0.11634  0.08993\n",
              "2  1.0  1.5 -0.01   60.0  0.09855  0.02890\n",
              "3  1.0  1.5 -0.01   90.0  0.07791  0.00028\n",
              "4  1.0  1.5 -0.01  120.0  0.06095  0.01244\n",
              "5  1.0  1.5 -0.01  150.0  0.05055  0.03644\n",
              "6  1.0  1.5 -0.01  180.0  0.04713  0.04713\n",
              "7  1.0  1.5 -0.02    0.0  0.12437  0.12437\n",
              "8  1.0  1.5 -0.02   30.0  0.11720  0.09058\n",
              "9  1.0  1.5 -0.02   60.0  0.09933  0.02911"
            ]
          },
          "execution_count": 27,
          "metadata": {},
          "output_type": "execute_result"
        }
      ],
      "source": [
        "data.head(10)"
      ]
    },
    {
      "cell_type": "markdown",
      "id": "74af41c1-2ea1-420b-8fec-ae211e9b4cd2",
      "metadata": {
        "id": "74af41c1-2ea1-420b-8fec-ae211e9b4cd2"
      },
      "source": [
        "_-- Meet! Alice, it's data! Data, it's Alice!_"
      ]
    },
    {
      "cell_type": "markdown",
      "id": "8028ac8c-a016-4ee4-9e73-c534c3a15899",
      "metadata": {
        "id": "8028ac8c-a016-4ee4-9e73-c534c3a15899"
      },
      "source": [
        "---"
      ]
    },
    {
      "cell_type": "markdown",
      "id": "916743a0-ed35-4815-98c2-53c98e15a0e9",
      "metadata": {
        "id": "916743a0-ed35-4815-98c2-53c98e15a0e9"
      },
      "source": [
        "**Defining activation function and its derivative**"
      ]
    },
    {
      "cell_type": "markdown",
      "id": "e74b1421-8f8c-4ce3-9180-23b11a315805",
      "metadata": {
        "id": "e74b1421-8f8c-4ce3-9180-23b11a315805"
      },
      "source": [
        "I used two activation functions: **Sigmoid** and **ReLU**. They have their advantages and drawbacks (vanishing gradient of Sigmoid or dead ReLU). Let's compare them in the simple case of two-hidden-layers neural network. We may see a little difference in this case, but it is still interesting."
      ]
    },
    {
      "cell_type": "code",
      "execution_count": null,
      "id": "13d0a5f0-c103-457d-9920-978dc1821797",
      "metadata": {
        "id": "13d0a5f0-c103-457d-9920-978dc1821797"
      },
      "outputs": [],
      "source": [
        "def sigmoid(z):\n",
        "    return 1/(1+np.exp(-z))\n",
        "\n",
        "def sigmoid_diff(z):\n",
        "    return sigmoid(z)*(1-sigmoid(z))\n",
        "\n",
        "def relu(x):\n",
        "    return np.maximum(0, x)\n",
        "\n",
        "def relu_diff(x):\n",
        "    return np.where(x > 0, 1, 0)"
      ]
    },
    {
      "cell_type": "markdown",
      "id": "05c748c1-b023-4867-9204-564fa281d005",
      "metadata": {
        "id": "05c748c1-b023-4867-9204-564fa281d005"
      },
      "source": [
        "---"
      ]
    },
    {
      "cell_type": "markdown",
      "id": "ce4eb1a6-14ee-41f3-b81d-166b816cf591",
      "metadata": {
        "id": "ce4eb1a6-14ee-41f3-b81d-166b816cf591"
      },
      "source": [
        "**Defining cost function**"
      ]
    },
    {
      "cell_type": "markdown",
      "id": "683c2b17-95fc-40da-8f2d-3d8a5ab08cbc",
      "metadata": {
        "id": "683c2b17-95fc-40da-8f2d-3d8a5ab08cbc"
      },
      "source": [
        "Mean squared error (**MSE**) was chosen, according to homework tutorial we was given.\n",
        "\n",
        "**y** - actual value  \n",
        "**a** - predicted value  \n",
        "**m** - number of training inputs"
      ]
    },
    {
      "cell_type": "code",
      "execution_count": null,
      "id": "adbcb987-eebc-43b2-b7a8-07d9faa61249",
      "metadata": {
        "id": "adbcb987-eebc-43b2-b7a8-07d9faa61249"
      },
      "outputs": [],
      "source": [
        "def cost(y, a, m):\n",
        "    return np.sum((y - a)**2)/m"
      ]
    },
    {
      "cell_type": "markdown",
      "id": "47ffbdad-5140-4aa8-b9b0-4b7903269be8",
      "metadata": {
        "id": "47ffbdad-5140-4aa8-b9b0-4b7903269be8"
      },
      "source": [
        "---"
      ]
    },
    {
      "cell_type": "markdown",
      "id": "edc2dd0e-a958-4149-93ed-17a09e686503",
      "metadata": {
        "id": "edc2dd0e-a958-4149-93ed-17a09e686503"
      },
      "source": [
        "**Creating neural network**"
      ]
    },
    {
      "cell_type": "markdown",
      "id": "713e79e2-227f-4c2a-b482-51d79202a71f",
      "metadata": {
        "id": "713e79e2-227f-4c2a-b482-51d79202a71f"
      },
      "source": [
        "It will include two hidden layers, as it was in the example in our tutorial. It's not too simple, but enough to understand the principles of neural networks.\n",
        "We are solving regression problem, so [I won't use the activation function after the last layer](https://education.yandex.ru/handbook/ml/article/pervoe-znakomstvo-s-polnosvyaznymi-nejrosetyami#mnozhestvennaya-regressiya).\n",
        "\n",
        "**Forward propagation** function is needed to calculate the results: on training data set, when we just started to teach our model, on testing data - when we are checking how well it works, or on our real data - to solve some problem we wrote this thing for.\n",
        "**Backward propagation** is needed to evaluate our network. On this step it is learning. **Weights** and **biases** of the linear layers are chosen randomly on the initial and are updating with every epoch, according to the **cost function** derivative."
      ]
    },
    {
      "cell_type": "code",
      "execution_count": null,
      "id": "0844e85f-f4e7-4294-bf82-dd53f515d47e",
      "metadata": {
        "id": "0844e85f-f4e7-4294-bf82-dd53f515d47e"
      },
      "outputs": [],
      "source": [
        "class scratch_ANN():\n",
        "    def __init__(self, f, f_diff, n_in, n_out):\n",
        "        # Activation function and its derivative\n",
        "        self.f = f\n",
        "        self.df = f_diff\n",
        "\n",
        "        # In and out arrays sizes\n",
        "        self.n_in = n_in\n",
        "        self.n_out = n_out\n",
        "\n",
        "        # Weights and biases. We choose them randomly on the initial.\n",
        "        self.w_1 = np.random.uniform(size=(n_in, n_in))\n",
        "        self.w_2 = np.random.uniform(size=(n_in, n_in))\n",
        "        self.w_3 = np.random.uniform(size=(n_out, n_in))\n",
        "\n",
        "        self.b_1 = np.random.uniform(size=(n_in))\n",
        "        self.b_2 = np.random.uniform(size=(n_in))\n",
        "        self.b_3 = np.random.uniform(size=(n_out))\n",
        "\n",
        "    def forward_prop(self, x):\n",
        "        # Input layer\n",
        "        a_1 = x\n",
        "\n",
        "        # Hidden layer 1\n",
        "        z_2 = np.dot(self.w_1, a_1) + self.b_1\n",
        "        a_2 = self.f(z_2)\n",
        "\n",
        "        # Hidden layer 2\n",
        "        z_3 = np.dot(self.w_2, a_2) + self.b_2\n",
        "        a_3 = self.f(z_3)\n",
        "\n",
        "        # Output layer\n",
        "        z_4 = np.dot(self.w_3, a_3) + self.b_3\n",
        "        o = z_4\n",
        "\n",
        "        return o, (a_1, a_2, a_3)\n",
        "\n",
        "\n",
        "    def backward_prop(self, x, y, epochs_num, train_speed, train_amount):\n",
        "        tsl = int(train_amount * len(x))\n",
        "        error_values = np.zeros(epochs_num)\n",
        "\n",
        "        for n in tqdm(range(epochs_num)):\n",
        "\n",
        "            for x_i, y_i in zip(x[:tsl], y[:tsl]):\n",
        "\n",
        "                o_i, a_i = self.forward_prop(x_i)\n",
        "                a_1, a_2, a_3 = a_i\n",
        "\n",
        "                # Backward propagation\n",
        "                error_values[n] += cost(y_i, o_i, self.n_out)\n",
        "\n",
        "                # Output layer\n",
        "                delta_4 = o_i - y_i\n",
        "                grad_w_3 = np.outer(delta_4, a_3)\n",
        "                grad_b_3 = delta_4\n",
        "\n",
        "                # Hidden layer 2\n",
        "                delta_3 = self.df(a_3) * np.dot(self.w_3.T, delta_4)\n",
        "                grad_w_2 = np.outer(delta_3, a_2)\n",
        "                grad_b_2 = delta_3\n",
        "\n",
        "                # Hidden layer 1\n",
        "                delta_2 = self.df(a_2) * np.dot(self.w_2.T, delta_3)\n",
        "                grad_w_1 = np.outer(delta_2, a_1)\n",
        "                grad_b_1 = delta_2\n",
        "\n",
        "                # Update weights and biases\n",
        "                self.w_3 -= train_speed * grad_w_3\n",
        "                self.b_3 -= train_speed * grad_b_3\n",
        "\n",
        "                self.w_2 -= train_speed * grad_w_2\n",
        "                self.b_2 -= train_speed * grad_b_2\n",
        "\n",
        "                self.w_1 -= train_speed * grad_w_1\n",
        "                self.b_1 -= train_speed * grad_b_1\n",
        "\n",
        "        return error_values"
      ]
    },
    {
      "cell_type": "markdown",
      "id": "d857d4f2-c447-41c6-88ba-b47a5bccf9fb",
      "metadata": {
        "id": "d857d4f2-c447-41c6-88ba-b47a5bccf9fb"
      },
      "source": [
        "---"
      ]
    },
    {
      "cell_type": "markdown",
      "id": "24a6370e-db82-4b46-995b-ae5a5bd268af",
      "metadata": {
        "id": "24a6370e-db82-4b46-995b-ae5a5bd268af"
      },
      "source": [
        "**Checking the results**"
      ]
    },
    {
      "cell_type": "markdown",
      "id": "bec46b73-6b72-443f-bd8d-8459712be91e",
      "metadata": {
        "id": "bec46b73-6b72-443f-bd8d-8459712be91e"
      },
      "source": [
        "So, let's see how it works. Initializing nets and packing the data: x (input) consists of 4 parameters an y (outputs) consists of 2.  \n",
        "We give activation functions, its derivative and number of inputs and outputs for ANNs."
      ]
    },
    {
      "cell_type": "code",
      "execution_count": null,
      "id": "e1f45c7a-c3b6-4637-8e51-123f2ad5f3f4",
      "metadata": {
        "id": "e1f45c7a-c3b6-4637-8e51-123f2ad5f3f4"
      },
      "outputs": [],
      "source": [
        "ann_relu = scratch_ANN(relu, relu_diff, 4, 2)\n",
        "ann_sigma = scratch_ANN(sigmoid, sigmoid_diff, 4, 2)\n",
        "\n",
        "x = [[m_i, k_i, x_i, th_i] for m_i, k_i, x_i, th_i in zip(m, k, x, theta)]\n",
        "y = [[p_1_i, p_2_i] for p_1_i, p_2_i in zip(p_1, p_2)]"
      ]
    },
    {
      "cell_type": "markdown",
      "id": "ac3aacad-f5bb-4c28-ac11-afd5cb1fd270",
      "metadata": {
        "id": "ac3aacad-f5bb-4c28-ac11-afd5cb1fd270"
      },
      "source": [
        "Learning our neural network. Let the number of epochs be 100000 and the learning rate 0.0001. The amount of training data = (0.7 * initial data)."
      ]
    },
    {
      "cell_type": "code",
      "execution_count": null,
      "id": "8cdd2e68-a560-4b05-8492-0fde171ec29d",
      "metadata": {
        "id": "8cdd2e68-a560-4b05-8492-0fde171ec29d",
        "outputId": "47999bcd-b8b6-4188-f863-f7268eca2081"
      },
      "outputs": [
        {
          "name": "stderr",
          "output_type": "stream",
          "text": [
            "100%|███████████████████████████████████████| 1000/1000 [00:28<00:00, 35.29it/s]\n",
            "100%|███████████████████████████████████████| 1000/1000 [00:43<00:00, 22.95it/s]\n"
          ]
        }
      ],
      "source": [
        "cost_relu = ann_relu.backward_prop(x, y, 100_000, 0.001, 0.7)\n",
        "cost_sigma = ann_sigma.backward_prop(x, y, 100_000, 0.001, 0.7)"
      ]
    },
    {
      "cell_type": "markdown",
      "id": "85e5551a-0356-4316-9579-febc107dbf24",
      "metadata": {
        "id": "85e5551a-0356-4316-9579-febc107dbf24"
      },
      "source": [
        "Finally, results plots!"
      ]
    },
    {
      "cell_type": "code",
      "execution_count": null,
      "id": "cb34c4f2-c009-4d31-8286-25c2a41e8d6e",
      "metadata": {
        "id": "cb34c4f2-c009-4d31-8286-25c2a41e8d6e",
        "outputId": "2be4449e-a47e-465f-cbc8-21b986f7b6bb"
      },
      "outputs": [
        {
          "data": {
            "image/png": "[encoded data removed]",
            "text/plain": [
              "<Figure size 640x480 with 1 Axes>"
            ]
          },
          "metadata": {},
          "output_type": "display_data"
        }
      ],
      "source": [
        "epochs_grid = np.arange(0, 1000, 1)\n",
        "plt.plot(epochs_grid, cost_relu, color='lightgreen', ls='-', label='ReLU')\n",
        "plt.plot(epochs_grid, cost_sigma, color='lightblue', ls='-', label='Sigmoid')\n",
        "plt.title('ANN prediction error decrease')\n",
        "plt.xlabel('Epoch')\n",
        "plt.ylabel('Cost')\n",
        "plt.legend()\n",
        "plt.xlim(0, 50)\n",
        "plt.ylim(0, 600)\n",
        "plt.show()"
      ]
    }
  ],
  "metadata": {
    "kernelspec": {
      "display_name": "Python 3 (ipykernel)",
      "language": "python",
      "name": "python3"
    },
    "language_info": {
      "codemirror_mode": {
        "name": "ipython",
        "version": 3
      },
      "file_extension": ".py",
      "mimetype": "text/x-python",
      "name": "python",
      "nbconvert_exporter": "python",
      "pygments_lexer": "ipython3",
      "version": "3.10.12"
    },
    "colab": {
      "provenance": []
    }
  },
  "nbformat": 4,
  "nbformat_minor": 5
}